{
  "nbformat": 4,
  "nbformat_minor": 0,
  "metadata": {
    "colab": {
      "name": "Copy of Happywhale.ipynb",
      "provenance": []
    },
    "kernelspec": {
      "name": "python3",
      "display_name": "Python 3"
    },
    "language_info": {
      "name": "python"
    },
    "accelerator": "GPU"
  },
  "cells": [
    {
      "cell_type": "markdown",
      "source": [
        "All files unzipped in current directory"
      ],
      "metadata": {
        "id": "0th_WlNUv84m"
      }
    },
    {
      "cell_type": "code",
      "source": [
        "import pandas as pd\n",
        "train_df = pd.read_csv('train.csv')\n",
        "train_df.head()"
      ],
      "metadata": {
        "id": "e8K__m1lv6D0"
      },
      "execution_count": null,
      "outputs": []
    },
    {
      "cell_type": "code",
      "source": [
        "import tensorflow as tf\n",
        "from tensorflow.keras.preprocessing.image import ImageDataGenerator\n",
        "\n",
        "target_folder = 'train_images'\n",
        "\n",
        "datagen=ImageDataGenerator(rescale=1./255.,validation_split=0.25)\n",
        "\n",
        "train_generator=datagen.flow_from_dataframe(\n",
        "  dataframe=train_df,\n",
        "  directory= target_folder,\n",
        "  x_col=\"image\",\n",
        "  y_col=\"species\",\n",
        "  subset=\"training\",\n",
        "  batch_size=32,\n",
        "  seed=42,\n",
        "  shuffle=True,\n",
        "  class_mode=\"categorical\",\n",
        "  target_size=(224,224))\n",
        "\n",
        "valid_generator = datagen.flow_from_dataframe(\n",
        "  dataframe=train_df,\n",
        "  directory= target_folder,\n",
        "  x_col=\"image\",\n",
        "  y_col=\"species\",\n",
        "  subset=\"validation\",\n",
        "  batch_size=32,\n",
        "  seed=42,\n",
        "  shuffle=True,\n",
        "  class_mode=\"categorical\",\n",
        "  target_size=(224,224))"
      ],
      "metadata": {
        "colab": {
          "base_uri": "https://localhost:8080/"
        },
        "id": "aaHTvdIcwRgB",
        "outputId": "f5c7a6c6-b6b2-4fb8-8011-575fbc4dc3f8"
      },
      "execution_count": null,
      "outputs": [
        {
          "output_type": "stream",
          "name": "stdout",
          "text": [
            "Found 38275 validated image filenames belonging to 30 classes.\n",
            "Found 12758 validated image filenames belonging to 30 classes.\n"
          ]
        }
      ]
    },
    {
      "cell_type": "code",
      "source": [
        "from tensorflow.keras.models import Sequential\n",
        "from tensorflow.keras.layers import Conv2D, MaxPool2D, Flatten, Dense\n",
        "\n",
        "model_1 = Sequential([\n",
        "  Conv2D(10, 3, activation='relu', input_shape=(224, 224, 3)),\n",
        "  Conv2D(10, 3, activation='relu'),\n",
        "  MaxPool2D(),\n",
        "  Conv2D(10, 3, activation='relu'),\n",
        "  Conv2D(10, 3, activation='relu'),\n",
        "  MaxPool2D(),\n",
        "  Flatten(),\n",
        "  Dense(30, activation='softmax') \n",
        "])\n",
        "\n",
        "model_1.compile(loss=\"categorical_crossentropy\",\n",
        "                optimizer=tf.keras.optimizers.Adam(),\n",
        "                metrics=[\"accuracy\"])"
      ],
      "metadata": {
        "id": "BY-nnxdAwcH3"
      },
      "execution_count": null,
      "outputs": []
    },
    {
      "cell_type": "code",
      "source": [
        "history_1 = model_1.fit(train_generator,\n",
        "                        epochs=5,\n",
        "                        steps_per_epoch=len(train_generator),\n",
        "                        validation_data=valid_generator,\n",
        "                        validation_steps=len(valid_generator))"
      ],
      "metadata": {
        "colab": {
          "base_uri": "https://localhost:8080/"
        },
        "id": "A6ABtuPSw0Na",
        "outputId": "ba6bb949-c42f-4104-82ca-4a0b7c8d43aa"
      },
      "execution_count": null,
      "outputs": [
        {
          "output_type": "stream",
          "name": "stdout",
          "text": [
            "Epoch 1/5\n",
            "1197/1197 [==============================] - 3337s 3s/step - loss: 1.5269 - accuracy: 0.5688 - val_loss: 1.1883 - val_accuracy: 0.6499\n",
            "Epoch 2/5\n",
            "1197/1197 [==============================] - 3300s 3s/step - loss: 1.0175 - accuracy: 0.6897 - val_loss: 1.2232 - val_accuracy: 0.6481\n",
            "Epoch 3/5\n",
            "1197/1197 [==============================] - 3295s 3s/step - loss: 0.6892 - accuracy: 0.7830 - val_loss: 1.2849 - val_accuracy: 0.6375\n",
            "Epoch 4/5\n",
            "1197/1197 [==============================] - 3282s 3s/step - loss: 0.4194 - accuracy: 0.8622 - val_loss: 1.4987 - val_accuracy: 0.6635\n",
            "Epoch 5/5\n",
            "1197/1197 [==============================] - 3316s 3s/step - loss: 0.2618 - accuracy: 0.9134 - val_loss: 1.7992 - val_accuracy: 0.6519\n"
          ]
        }
      ]
    }
  ]
}